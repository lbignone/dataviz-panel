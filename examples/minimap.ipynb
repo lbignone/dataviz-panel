{
 "cells": [
  {
   "cell_type": "code",
   "execution_count": null,
   "id": "c989490c-9022-4100-818b-ba9921627905",
   "metadata": {},
   "outputs": [],
   "source": [
    "from dataviz_panel.holoviews.operation import minimap"
   ]
  },
  {
   "cell_type": "code",
   "execution_count": null,
   "id": "ec073ab7-43da-473f-8bd0-904ddebe90c1",
   "metadata": {},
   "outputs": [],
   "source": [
    "import numpy as np\n",
    "import holoviews as hv\n",
    "from itertools import islice\n",
    "hv.extension('bokeh')"
   ]
  },
  {
   "cell_type": "code",
   "execution_count": null,
   "id": "c2e80f38-245e-4123-bad2-a5493e9b2ac8",
   "metadata": {},
   "outputs": [],
   "source": [
    "def mandelbrot_generator(h,w, maxit, bounds):\n",
    "    \"\"\"Generator that yields the mandlebrot set.\"\"\"\n",
    "    (l,b,r,t) = bounds\n",
    "    y,x = np.ogrid[b:t : h*1j, l:r:w*1j]\n",
    "    c = x+y*1j\n",
    "    z = c\n",
    "    divtime = maxit + np.zeros(z.shape, dtype=int)\n",
    "    for i in range(maxit):\n",
    "        z  = z**2 + c\n",
    "        diverge = z*np.conj(z) > 2**2\n",
    "        div_now = diverge & (divtime==maxit)\n",
    "        divtime[div_now] = i\n",
    "        z[diverge] = 2\n",
    "        yield divtime\n",
    "\n",
    "def mandelbrot(h,w, n, maxit, bounds):\n",
    "    \"\"\"Returns the mandelbrot set computed to maxit.\"\"\"\n",
    "    iterable =  mandelbrot_generator(h,w, maxit, bounds)\n",
    "    return next(islice(iterable, n, None))\n",
    "\n",
    "bounds = (-2,-1.4,0.8,1.4)\n",
    "mbset = mandelbrot(800, 800, 45, 46, bounds)\n",
    "\n",
    "mbset_image = hv.Image(mbset, bounds=bounds)"
   ]
  },
  {
   "cell_type": "code",
   "execution_count": null,
   "id": "0600d18b-24f3-4658-b972-1eb0a0f0896f",
   "metadata": {},
   "outputs": [],
   "source": [
    "minimap(mbset_image, target=mbset_image) + mbset_image"
   ]
  },
  {
   "cell_type": "code",
   "execution_count": null,
   "id": "269fdb25-9452-4fc7-b847-2c9a0c87160e",
   "metadata": {},
   "outputs": [],
   "source": []
  }
 ],
 "metadata": {
  "kernelspec": {
   "display_name": "Python 3",
   "language": "python",
   "name": "python3"
  },
  "language_info": {
   "codemirror_mode": {
    "name": "ipython",
    "version": 3
   },
   "file_extension": ".py",
   "mimetype": "text/x-python",
   "name": "python",
   "nbconvert_exporter": "python",
   "pygments_lexer": "ipython3",
   "version": "3.8.8"
  }
 },
 "nbformat": 4,
 "nbformat_minor": 5
}
