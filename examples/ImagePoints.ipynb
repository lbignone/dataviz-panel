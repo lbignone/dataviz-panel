{
 "cells": [
  {
   "cell_type": "code",
   "execution_count": null,
   "id": "9542949a",
   "metadata": {},
   "outputs": [],
   "source": [
    "from dataviz_panel.holoviews import ImagePoints\n",
    "import pandas as pd\n",
    "import numpy as np"
   ]
  },
  {
   "cell_type": "code",
   "execution_count": null,
   "id": "5e81f5ef",
   "metadata": {},
   "outputs": [],
   "source": [
    "df = pd.DataFrame(\n",
    "    {\n",
    "        'x': np.arange(10),\n",
    "        'y': np.arange(10),\n",
    "        'Image': ['img/logo-batman-nolan.png'] * 10,\n",
    "        'w': np.arange(10),\n",
    "        'h': [1] * 10,\n",
    "        'angle': np.linspace(0, 360, 10),\n",
    "    }\n",
    ")"
   ]
  },
  {
   "cell_type": "code",
   "execution_count": null,
   "id": "cfeb3948",
   "metadata": {},
   "outputs": [],
   "source": [
    "import holoviews as hv\n",
    "hv.extension('bokeh')"
   ]
  },
  {
   "cell_type": "code",
   "execution_count": null,
   "id": "2a7a6449",
   "metadata": {},
   "outputs": [],
   "source": [
    "ImagePoints(df).opts(w=100, h=50, w_units='screen', h_units='screen', anchor='center_center')"
   ]
  },
  {
   "cell_type": "code",
   "execution_count": null,
   "id": "2684e90c",
   "metadata": {},
   "outputs": [],
   "source": []
  }
 ],
 "metadata": {
  "kernelspec": {
   "display_name": "Python 3",
   "language": "python",
   "name": "python3"
  },
  "language_info": {
   "codemirror_mode": {
    "name": "ipython",
    "version": 3
   },
   "file_extension": ".py",
   "mimetype": "text/x-python",
   "name": "python",
   "nbconvert_exporter": "python",
   "pygments_lexer": "ipython3",
   "version": "3.8.8"
  }
 },
 "nbformat": 4,
 "nbformat_minor": 5
}
